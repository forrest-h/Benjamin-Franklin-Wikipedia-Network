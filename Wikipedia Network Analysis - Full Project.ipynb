{
 "cells": [
  {
   "cell_type": "markdown",
   "metadata": {},
   "source": [
    "# Wikipedia Network Analysis\n",
    "## Full Project by Forrest Hangen"
   ]
  },
  {
   "cell_type": "code",
   "execution_count": null,
   "metadata": {},
   "outputs": [],
   "source": []
  },
  {
   "cell_type": "code",
   "execution_count": 56,
   "metadata": {},
   "outputs": [],
   "source": [
    "import pandas as pd\n",
    "import numpy as np\n",
    "import scipy as sp\n",
    "import nltk\n",
    "\n",
    "from bs4 import BeautifulSoup as bs\n",
    "import requests\n",
    "import time\n",
    "import random\n",
    "\n",
    "import re\n",
    "\n",
    "import matplotlib.pyplot as plt\n",
    "\n",
    "from sklearn.model_selection import train_test_split\n",
    "from sklearn.feature_extraction.text import CountVectorizer\n",
    "from sklearn.naive_bayes import MultinomialNB\n",
    "from sklearn.svm import SVC\n",
    "from sklearn.linear_model import LogisticRegression\n",
    "\n",
    "from sklearn.model_selection import GridSearchCV\n",
    "from sklearn.metrics import roc_auc_score\n",
    "from sklearn.metrics import accuracy_score\n",
    "from sklearn.metrics import confusion_matrix\n",
    "\n",
    "from sklearn.preprocessing import MinMaxScaler"
   ]
  },
  {
   "cell_type": "code",
   "execution_count": null,
   "metadata": {},
   "outputs": [],
   "source": []
  },
  {
   "cell_type": "markdown",
   "metadata": {},
   "source": [
    "# Step 1. Training Model to Identify People in Wikipedia Article Summary\n",
    "(This will use the data and model I developed in Text Classification - Identifying People.ipynb. I did not label all the data I gathered (60000+ article summaries, but if anyone wants to continue labeling, be my guest!))"
   ]
  },
  {
   "cell_type": "code",
   "execution_count": 27,
   "metadata": {},
   "outputs": [],
   "source": [
    "df_label = pd.read_csv('wiki_desc_dataset_no_duplicates.csv')"
   ]
  },
  {
   "cell_type": "code",
   "execution_count": 28,
   "metadata": {},
   "outputs": [
    {
     "data": {
      "text/plain": [
       "0.32715462610899876"
      ]
     },
     "execution_count": 28,
     "metadata": {},
     "output_type": "execute_result"
    }
   ],
   "source": [
    "df_label['LABEL'].value_counts().loc['PERSON'] /sum(df_label['LABEL'].value_counts())"
   ]
  },
  {
   "cell_type": "code",
   "execution_count": 29,
   "metadata": {},
   "outputs": [
    {
     "data": {
      "text/html": [
       "<div>\n",
       "<style scoped>\n",
       "    .dataframe tbody tr th:only-of-type {\n",
       "        vertical-align: middle;\n",
       "    }\n",
       "\n",
       "    .dataframe tbody tr th {\n",
       "        vertical-align: top;\n",
       "    }\n",
       "\n",
       "    .dataframe thead th {\n",
       "        text-align: right;\n",
       "    }\n",
       "</style>\n",
       "<table border=\"1\" class=\"dataframe\">\n",
       "  <thead>\n",
       "    <tr style=\"text-align: right;\">\n",
       "      <th></th>\n",
       "      <th>LABEL</th>\n",
       "      <th>Titles</th>\n",
       "      <th>Text</th>\n",
       "    </tr>\n",
       "  </thead>\n",
       "  <tbody>\n",
       "    <tr>\n",
       "      <th>0</th>\n",
       "      <td>1</td>\n",
       "      <td>Charles H. Percy</td>\n",
       "      <td>Charles Harting Percy (September 27, 1919 – Se...</td>\n",
       "    </tr>\n",
       "    <tr>\n",
       "      <th>1</th>\n",
       "      <td>0</td>\n",
       "      <td>Head of state</td>\n",
       "      <td>A head of state (or chief of state) is the pub...</td>\n",
       "    </tr>\n",
       "    <tr>\n",
       "      <th>2</th>\n",
       "      <td>1</td>\n",
       "      <td>Henry Winkler</td>\n",
       "      <td>Henry Franklin Winkler (born October 30, 1945)...</td>\n",
       "    </tr>\n",
       "    <tr>\n",
       "      <th>3</th>\n",
       "      <td>0</td>\n",
       "      <td>La Violencia</td>\n",
       "      <td>La Violencia (Spanish pronunciation: [la βjoˈl...</td>\n",
       "    </tr>\n",
       "    <tr>\n",
       "      <th>4</th>\n",
       "      <td>0</td>\n",
       "      <td>London Buses route 176</td>\n",
       "      <td>London Buses route 176 is a Transport for Lond...</td>\n",
       "    </tr>\n",
       "  </tbody>\n",
       "</table>\n",
       "</div>"
      ],
      "text/plain": [
       "   LABEL                  Titles  \\\n",
       "0      1        Charles H. Percy   \n",
       "1      0           Head of state   \n",
       "2      1           Henry Winkler   \n",
       "3      0            La Violencia   \n",
       "4      0  London Buses route 176   \n",
       "\n",
       "                                                Text  \n",
       "0  Charles Harting Percy (September 27, 1919 – Se...  \n",
       "1  A head of state (or chief of state) is the pub...  \n",
       "2  Henry Franklin Winkler (born October 30, 1945)...  \n",
       "3  La Violencia (Spanish pronunciation: [la βjoˈl...  \n",
       "4  London Buses route 176 is a Transport for Lond...  "
      ]
     },
     "execution_count": 29,
     "metadata": {},
     "output_type": "execute_result"
    }
   ],
   "source": [
    "df_labled = pd.read_csv('wiki_desc_dataset_no_duplicates.csv')\n",
    "df_labled_only = (df_labled.dropna()\n",
    "                            .drop(columns= 'Unnamed: 0'))\n",
    "df_labled_only['LABEL'] = df_labled_only['LABEL'].apply(lambda x: 1 if x == 'PERSON' else 0)\n",
    "df_labled_only.head()"
   ]
  },
  {
   "cell_type": "code",
   "execution_count": 67,
   "metadata": {},
   "outputs": [
    {
     "name": "stderr",
     "output_type": "stream",
     "text": [
      "C:\\ProgramData\\Anaconda3\\lib\\site-packages\\sklearn\\model_selection\\_split.py:2026: FutureWarning: From version 0.21, test_size will always complement train_size unless both are specified.\n",
      "  FutureWarning)\n"
     ]
    },
    {
     "data": {
      "text/plain": [
       "(5996, 316)"
      ]
     },
     "execution_count": 67,
     "metadata": {},
     "output_type": "execute_result"
    }
   ],
   "source": [
    "X_train, X_test, y_train, y_test = train_test_split(df_labled_only['Text'], \n",
    "                                                    df_labled_only['LABEL'], \n",
    "                                                    random_state=42, train_size= .95)\n",
    "len(X_train), len(X_test)"
   ]
  },
  {
   "cell_type": "code",
   "execution_count": 72,
   "metadata": {},
   "outputs": [],
   "source": [
    "count_final = CountVectorizer(lowercase=False, min_df = 20, ngram_range=(1,3)).fit(X_train)\n",
    "\n",
    "X_train_matrix = count_final.transform(X_train)\n",
    "X_test_matrix = count_final.transform(X_test)\n",
    "\n",
    "log_final = LogisticRegression(solver = 'newton-cg').fit(X_train_matrix, y_train)"
   ]
  },
  {
   "cell_type": "code",
   "execution_count": 73,
   "metadata": {},
   "outputs": [
    {
     "name": "stdout",
     "output_type": "stream",
     "text": [
      "TRAIN\n",
      "Log Reg:\n",
      "Accuracy: 0.9998332221480988\n",
      "ROC AUC: 0.9998759612999255\n",
      "[[4030    1]\n",
      " [   0 1965]]\n",
      "\n",
      "TEST\n",
      "Log Reg:\n",
      "Accuracy: 0.9778481012658228\n",
      "ROC AUC: 0.9837962962962963\n",
      "[[209   7]\n",
      " [  0 100]]\n"
     ]
    }
   ],
   "source": [
    "y_train_finalpred = log_final.predict(X_train_matrix)\n",
    "y_test_finalpred = log_final.predict(X_test_matrix)\n",
    "\n",
    "print('TRAIN')\n",
    "print('Log Reg:\\nAccuracy: {0}\\nROC AUC: {1}'.format(accuracy_score(y_train, y_train_finalpred),\n",
    "                                                     roc_auc_score(y_train, y_train_finalpred)))\n",
    "print(confusion_matrix(y_train, y_train_finalpred))\n",
    "print()\n",
    "print('TEST')\n",
    "print('Log Reg:\\nAccuracy: {0}\\nROC AUC: {1}'.format(accuracy_score(y_test, y_test_finalpred),\n",
    "                                                     roc_auc_score(y_test, y_test_finalpred)))\n",
    "print(confusion_matrix(y_test, y_test_finalpred))"
   ]
  },
  {
   "cell_type": "markdown",
   "metadata": {},
   "source": [
    "This level of accuracy is perfect for what I'm trying to do here."
   ]
  },
  {
   "cell_type": "markdown",
   "metadata": {},
   "source": [
    "# Step 2. Gathering the Data!"
   ]
  }
 ],
 "metadata": {
  "kernelspec": {
   "display_name": "Python 3",
   "language": "python",
   "name": "python3"
  },
  "language_info": {
   "codemirror_mode": {
    "name": "ipython",
    "version": 3
   },
   "file_extension": ".py",
   "mimetype": "text/x-python",
   "name": "python",
   "nbconvert_exporter": "python",
   "pygments_lexer": "ipython3",
   "version": "3.6.5"
  }
 },
 "nbformat": 4,
 "nbformat_minor": 2
}
